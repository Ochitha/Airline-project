{
 "cells": [
  {
   "cell_type": "code",
   "execution_count": 2,
   "id": "6a69d576",
   "metadata": {},
   "outputs": [],
   "source": [
    "X1 = 5"
   ]
  },
  {
   "cell_type": "markdown",
   "id": "0a92f023",
   "metadata": {},
   "source": [
    "## Heading 1"
   ]
  },
  {
   "cell_type": "code",
   "execution_count": 3,
   "id": "67a959ff",
   "metadata": {},
   "outputs": [
    {
     "data": {
      "text/plain": [
       "int"
      ]
     },
     "execution_count": 3,
     "metadata": {},
     "output_type": "execute_result"
    }
   ],
   "source": [
    "type(X1)"
   ]
  },
  {
   "cell_type": "code",
   "execution_count": 4,
   "id": "e4d17499",
   "metadata": {},
   "outputs": [],
   "source": [
    "X2 = 5.2"
   ]
  },
  {
   "cell_type": "code",
   "execution_count": 5,
   "id": "73beab88",
   "metadata": {},
   "outputs": [
    {
     "data": {
      "text/plain": [
       "float"
      ]
     },
     "execution_count": 5,
     "metadata": {},
     "output_type": "execute_result"
    }
   ],
   "source": [
    "type(X2)"
   ]
  },
  {
   "cell_type": "code",
   "execution_count": 7,
   "id": "58d3b478",
   "metadata": {},
   "outputs": [],
   "source": [
    "X3 = True"
   ]
  },
  {
   "cell_type": "code",
   "execution_count": 8,
   "id": "6cc213fc",
   "metadata": {},
   "outputs": [
    {
     "data": {
      "text/plain": [
       "bool"
      ]
     },
     "execution_count": 8,
     "metadata": {},
     "output_type": "execute_result"
    }
   ],
   "source": [
    "type(X3)"
   ]
  },
  {
   "cell_type": "code",
   "execution_count": 9,
   "id": "55076740",
   "metadata": {},
   "outputs": [],
   "source": [
    "X3 = False"
   ]
  },
  {
   "cell_type": "code",
   "execution_count": 10,
   "id": "1617eaca",
   "metadata": {},
   "outputs": [
    {
     "data": {
      "text/plain": [
       "bool"
      ]
     },
     "execution_count": 10,
     "metadata": {},
     "output_type": "execute_result"
    }
   ],
   "source": [
    "type(X3)"
   ]
  },
  {
   "cell_type": "code",
   "execution_count": 11,
   "id": "79a405e4",
   "metadata": {},
   "outputs": [
    {
     "name": "stdout",
     "output_type": "stream",
     "text": [
      "5\n"
     ]
    }
   ],
   "source": [
    "print(X1)"
   ]
  },
  {
   "cell_type": "code",
   "execution_count": 12,
   "id": "6825d71b",
   "metadata": {},
   "outputs": [
    {
     "name": "stdout",
     "output_type": "stream",
     "text": [
      "X1\n"
     ]
    }
   ],
   "source": [
    "print(\"X1\")"
   ]
  },
  {
   "cell_type": "code",
   "execution_count": 13,
   "id": "6e693b8d",
   "metadata": {},
   "outputs": [
    {
     "name": "stdout",
     "output_type": "stream",
     "text": [
      "Ochitha\n"
     ]
    }
   ],
   "source": [
    "print(\"Ochitha\")"
   ]
  },
  {
   "cell_type": "code",
   "execution_count": 17,
   "id": "b593fb84",
   "metadata": {},
   "outputs": [],
   "source": [
    "X4 = \"Dollars\""
   ]
  },
  {
   "cell_type": "code",
   "execution_count": 19,
   "id": "70c6cae3",
   "metadata": {},
   "outputs": [
    {
     "data": {
      "text/plain": [
       "str"
      ]
     },
     "execution_count": 19,
     "metadata": {},
     "output_type": "execute_result"
    }
   ],
   "source": [
    "type(X4)"
   ]
  },
  {
   "cell_type": "code",
   "execution_count": 20,
   "id": "4c01bc4e",
   "metadata": {},
   "outputs": [
    {
     "name": "stdout",
     "output_type": "stream",
     "text": [
      "5Dollars\n"
     ]
    }
   ],
   "source": [
    "print(str(X1) + X4)"
   ]
  },
  {
   "cell_type": "code",
   "execution_count": 21,
   "id": "4091fe55",
   "metadata": {},
   "outputs": [
    {
     "name": "stdout",
     "output_type": "stream",
     "text": [
      "10.2\n"
     ]
    }
   ],
   "source": [
    "print(X1 + X2)"
   ]
  },
  {
   "cell_type": "markdown",
   "id": "a58d66ec",
   "metadata": {},
   "source": [
    "# Data Structures"
   ]
  },
  {
   "cell_type": "code",
   "execution_count": 23,
   "id": "87b11a72",
   "metadata": {},
   "outputs": [],
   "source": [
    "# This is a list\n",
    "lst_X1 = [50,80,70]"
   ]
  },
  {
   "cell_type": "code",
   "execution_count": 26,
   "id": "80aa31c9",
   "metadata": {},
   "outputs": [
    {
     "data": {
      "text/plain": [
       "list"
      ]
     },
     "execution_count": 26,
     "metadata": {},
     "output_type": "execute_result"
    }
   ],
   "source": [
    "type(lst_X1)"
   ]
  },
  {
   "cell_type": "code",
   "execution_count": 27,
   "id": "7c738bdd",
   "metadata": {},
   "outputs": [
    {
     "data": {
      "text/plain": [
       "70"
      ]
     },
     "execution_count": 27,
     "metadata": {},
     "output_type": "execute_result"
    }
   ],
   "source": [
    "lst_X1[2]"
   ]
  },
  {
   "cell_type": "code",
   "execution_count": 29,
   "id": "6147bf8a",
   "metadata": {},
   "outputs": [],
   "source": [
    "lst_X1[2]=lst_X1[0]+lst_X1[1]"
   ]
  },
  {
   "cell_type": "code",
   "execution_count": 31,
   "id": "64b85471",
   "metadata": {},
   "outputs": [
    {
     "name": "stdout",
     "output_type": "stream",
     "text": [
      "[50, 80, 130]\n"
     ]
    }
   ],
   "source": [
    "print(lst_X1)"
   ]
  },
  {
   "cell_type": "code",
   "execution_count": 33,
   "id": "cee77610",
   "metadata": {},
   "outputs": [],
   "source": [
    "tup_X2=(1,2,3)"
   ]
  },
  {
   "cell_type": "code",
   "execution_count": 35,
   "id": "a21bdcac",
   "metadata": {},
   "outputs": [
    {
     "data": {
      "text/plain": [
       "tuple"
      ]
     },
     "execution_count": 35,
     "metadata": {},
     "output_type": "execute_result"
    }
   ],
   "source": [
    "type(tup_X2)"
   ]
  },
  {
   "cell_type": "code",
   "execution_count": 37,
   "id": "58d82284",
   "metadata": {},
   "outputs": [],
   "source": [
    "set_X3={\"A\",\"B\",\"C\"}"
   ]
  },
  {
   "cell_type": "code",
   "execution_count": 38,
   "id": "e046c26a",
   "metadata": {},
   "outputs": [
    {
     "data": {
      "text/plain": [
       "set"
      ]
     },
     "execution_count": 38,
     "metadata": {},
     "output_type": "execute_result"
    }
   ],
   "source": [
    "type(set_X3)"
   ]
  },
  {
   "cell_type": "code",
   "execution_count": 39,
   "id": "45c73586",
   "metadata": {},
   "outputs": [],
   "source": [
    "dic_X3={\"name\":\"Ochitha\",\"grade\":5}"
   ]
  },
  {
   "cell_type": "code",
   "execution_count": 41,
   "id": "71d44e46",
   "metadata": {},
   "outputs": [
    {
     "data": {
      "text/plain": [
       "dict"
      ]
     },
     "execution_count": 41,
     "metadata": {},
     "output_type": "execute_result"
    }
   ],
   "source": [
    "type(dic_X3)"
   ]
  },
  {
   "cell_type": "code",
   "execution_count": 43,
   "id": "55303d7e",
   "metadata": {},
   "outputs": [
    {
     "data": {
      "text/plain": [
       "dict_keys(['name', 'grade'])"
      ]
     },
     "execution_count": 43,
     "metadata": {},
     "output_type": "execute_result"
    }
   ],
   "source": [
    "dic_X3.keys()"
   ]
  },
  {
   "cell_type": "code",
   "execution_count": 45,
   "id": "22f9af59",
   "metadata": {},
   "outputs": [
    {
     "data": {
      "text/plain": [
       "dict_values(['Ochitha', 5])"
      ]
     },
     "execution_count": 45,
     "metadata": {},
     "output_type": "execute_result"
    }
   ],
   "source": [
    "dic_X3.values()"
   ]
  },
  {
   "cell_type": "code",
   "execution_count": 46,
   "id": "a2993468",
   "metadata": {},
   "outputs": [
    {
     "data": {
      "text/plain": [
       "5"
      ]
     },
     "execution_count": 46,
     "metadata": {},
     "output_type": "execute_result"
    }
   ],
   "source": [
    "dic_X3['grade']"
   ]
  },
  {
   "cell_type": "code",
   "execution_count": null,
   "id": "f2332efd",
   "metadata": {},
   "outputs": [],
   "source": []
  }
 ],
 "metadata": {
  "kernelspec": {
   "display_name": "Python 3 (ipykernel)",
   "language": "python",
   "name": "python3"
  },
  "language_info": {
   "codemirror_mode": {
    "name": "ipython",
    "version": 3
   },
   "file_extension": ".py",
   "mimetype": "text/x-python",
   "name": "python",
   "nbconvert_exporter": "python",
   "pygments_lexer": "ipython3",
   "version": "3.8.12"
  }
 },
 "nbformat": 4,
 "nbformat_minor": 5
}
